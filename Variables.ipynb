{
  "nbformat": 4,
  "nbformat_minor": 0,
  "metadata": {
    "colab": {
      "name": "Variables.ipynb",
      "provenance": [],
      "authorship_tag": "ABX9TyNL5Ef7bmXZZoszLx6qEkAg",
      "include_colab_link": true
    },
    "kernelspec": {
      "name": "python3",
      "display_name": "Python 3"
    }
  },
  "cells": [
    {
      "cell_type": "markdown",
      "metadata": {
        "id": "view-in-github",
        "colab_type": "text"
      },
      "source": [
        "<a href=\"https://colab.research.google.com/github/Yichun-Yuan/Colab/blob/main/Variables.ipynb\" target=\"_parent\"><img src=\"https://colab.research.google.com/assets/colab-badge.svg\" alt=\"Open In Colab\"/></a>"
      ]
    },
    {
      "cell_type": "code",
      "metadata": {
        "id": "9a7u1suACUYL",
        "colab": {
          "base_uri": "https://localhost:8080/"
        },
        "outputId": "926c509d-96a8-44ff-8e66-1cdff8689533"
      },
      "source": [
        "# here are some viribles\n",
        "massage = \"lunch\"\n",
        "n = 17\n",
        "pi = 3.14159\n",
        "print(massage)\n",
        "print(n)\n",
        "print(pi)"
      ],
      "execution_count": 1,
      "outputs": [
        {
          "output_type": "stream",
          "text": [
            "lunch\n",
            "17\n",
            "3.14159\n"
          ],
          "name": "stdout"
        }
      ]
    },
    {
      "cell_type": "code",
      "metadata": {
        "colab": {
          "base_uri": "https://localhost:8080/",
          "height": 35
        },
        "id": "W90TmrZiHEHn",
        "outputId": "b04c51a6-844f-4fb4-fd1b-59476d10a15a"
      },
      "source": [
        "massage"
      ],
      "execution_count": 3,
      "outputs": [
        {
          "output_type": "execute_result",
          "data": {
            "application/vnd.google.colaboratory.intrinsic+json": {
              "type": "string"
            },
            "text/plain": [
              "'lunch'"
            ]
          },
          "metadata": {
            "tags": []
          },
          "execution_count": 3
        }
      ]
    },
    {
      "cell_type": "code",
      "metadata": {
        "colab": {
          "base_uri": "https://localhost:8080/"
        },
        "id": "BEEs4NxvHqEr",
        "outputId": "6173f3d5-1865-40dd-9336-3e4c2f2cf7e1"
      },
      "source": [
        "type(massage)"
      ],
      "execution_count": 5,
      "outputs": [
        {
          "output_type": "execute_result",
          "data": {
            "text/plain": [
              "str"
            ]
          },
          "metadata": {
            "tags": []
          },
          "execution_count": 5
        }
      ]
    },
    {
      "cell_type": "code",
      "metadata": {
        "colab": {
          "base_uri": "https://localhost:8080/"
        },
        "id": "5eYv6BZoH7q-",
        "outputId": "77205865-b968-4e2c-b1a5-4b35e4222cef"
      },
      "source": [
        "type(n)"
      ],
      "execution_count": 6,
      "outputs": [
        {
          "output_type": "execute_result",
          "data": {
            "text/plain": [
              "int"
            ]
          },
          "metadata": {
            "tags": []
          },
          "execution_count": 6
        }
      ]
    },
    {
      "cell_type": "code",
      "metadata": {
        "colab": {
          "base_uri": "https://localhost:8080/"
        },
        "id": "-k7iVdS1H_Ly",
        "outputId": "3c12fbf5-17c9-46a2-9119-d4529591174e"
      },
      "source": [
        "type(pi)"
      ],
      "execution_count": 7,
      "outputs": [
        {
          "output_type": "execute_result",
          "data": {
            "text/plain": [
              "float"
            ]
          },
          "metadata": {
            "tags": []
          },
          "execution_count": 7
        }
      ]
    },
    {
      "cell_type": "code",
      "metadata": {
        "colab": {
          "base_uri": "https://localhost:8080/"
        },
        "id": "4L-PLjbzLQEe",
        "outputId": "57624746-d198-47ef-c0cf-21334ca8053b"
      },
      "source": [
        "folder = \"d:/data/ma/\"\n",
        "file_1 = \"roads.shp\"\n",
        "road_layer = folder + file_1\n",
        "print(road_layer)"
      ],
      "execution_count": 9,
      "outputs": [
        {
          "output_type": "stream",
          "text": [
            "d:/data/ma/roads.shp\n"
          ],
          "name": "stdout"
        }
      ]
    },
    {
      "cell_type": "code",
      "metadata": {
        "colab": {
          "base_uri": "https://localhost:8080/"
        },
        "id": "zA6-QX4BL4by",
        "outputId": "48edb56a-276d-4572-a1d2-f24501056ce1"
      },
      "source": [
        "my_string = \"pointdata\"\n",
        "print(my_string*3)"
      ],
      "execution_count": 10,
      "outputs": [
        {
          "output_type": "stream",
          "text": [
            "pointdatapointdatapointdata\n"
          ],
          "name": "stdout"
        }
      ]
    },
    {
      "cell_type": "code",
      "metadata": {
        "colab": {
          "base_uri": "https://localhost:8080/"
        },
        "id": "j3d16WIBM065",
        "outputId": "9ffdfc42-f9ee-4841-aea7-f0d222ee2998"
      },
      "source": [
        "print(\"First ling \\n Second line\")"
      ],
      "execution_count": 11,
      "outputs": [
        {
          "output_type": "stream",
          "text": [
            "First ling \n",
            " Second line\n"
          ],
          "name": "stdout"
        }
      ]
    },
    {
      "cell_type": "markdown",
      "metadata": {
        "id": "mtqyyh_tNeZ5"
      },
      "source": [
        "\\n means start an new line\n",
        "\\\" can let python know xx is in quotation (ex13)"
      ]
    },
    {
      "cell_type": "code",
      "metadata": {
        "colab": {
          "base_uri": "https://localhost:8080/"
        },
        "id": "K2_-ljaqNnhF",
        "outputId": "61407f96-701d-4c6a-cd66-686da9d6c03a"
      },
      "source": [
        "strl = \"Have you real \\\"Thingd Fall Apart\\\"?\"\n",
        "print(strl)"
      ],
      "execution_count": 13,
      "outputs": [
        {
          "output_type": "stream",
          "text": [
            "Have you real \"Thingd Fall Apart\"?\n"
          ],
          "name": "stdout"
        }
      ]
    }
  ]
}